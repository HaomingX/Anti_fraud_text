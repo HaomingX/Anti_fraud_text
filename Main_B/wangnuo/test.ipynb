{
 "cells": [
  {
   "cell_type": "code",
   "execution_count": null,
   "metadata": {},
   "outputs": [],
   "source": [
    "with open('data\\\\traindata_vec.txt','r') as f:\n",
    "    lines = f.readlines()\n",
    "    n = 0 \n",
    "    max = 0\n",
    "    min = 100\n",
    "    lens = 0\n",
    "    for line in lines:\n",
    "        line = line.split(',')\n",
    "        # print(line)\n",
    "        n += 1\n",
    "        lens += len(line)\n",
    "        if len(line) > max :\n",
    "            max = len(line)\n",
    "        if len(line) < min :\n",
    "            min = len(line)\n",
    "    print(lines[0],len(lines[0]))\n",
    "    print(\"min:\",min)\n",
    "    print(\"max:\",max)\n",
    "    print(\"equal:\",lens/n)"
   ]
  },
  {
   "cell_type": "code",
   "execution_count": null,
   "metadata": {},
   "outputs": [],
   "source": [
    "import json\n",
    "with open('data/my_traindata.json', 'r', encoding='utf_8') as f:\n",
    "        datas = json.load(f)\n",
    "print(datas[0])"
   ]
  },
  {
   "cell_type": "code",
   "execution_count": null,
   "metadata": {},
   "outputs": [],
   "source": [
    "import csv\n",
    "datas = []\n",
    "with open('data/demo2.txt','r', encoding='utf-8') as f:\n",
    "    reader = csv.reader(f, delimiter=',')\n",
    "    fieldnames = next(reader)\n",
    "    reader = csv.DictReader(f, fieldnames=fieldnames, delimiter=',')\n",
    "    for row in reader:\n",
    "        new_dict={}\n",
    "        new_dict['大类编号'] = row['大类编号']\n",
    "        new_dict['简要案情'] = row['简要案情']\n",
    "        datas.append(new_dict)\n",
    "\n",
    "print(datas[0])"
   ]
  },
  {
   "cell_type": "code",
   "execution_count": null,
   "metadata": {},
   "outputs": [],
   "source": [
    "fr=open('data/datas.txt','r', encoding='UTF-8')\n",
    "\n",
    "# 读取文件所有行\n",
    "content=fr.readlines()\n",
    "contentLines=''\n",
    "\n",
    "\n",
    "characers=[]#存放不同字的总数\n",
    "rate={}#存放每个字出现的频率\n",
    "\n",
    "\n",
    "# 依次迭代所有行\n",
    "for line in content:\n",
    "    #去除空格\n",
    "    line=line.strip()\n",
    "    #如果是空行，则跳过\n",
    "    if len(line)==0:\n",
    "        continue\n",
    "    contentLines = contentLines + line\n",
    "    #统计每一字出现的个数\n",
    "    for x in range(0,len(line)):       \n",
    "    # 如果字符第一次出现加入到字符数组中\n",
    "        if not line[x] in characers:       \n",
    "            characers.append(line[x])     \n",
    "        # 如果是字符第一次出现        加入到字典中\n",
    "        if line[x] not in rate:           \n",
    "            rate[line[x]]=1\n",
    "        #出现次数加一       \n",
    "        rate[line[x]]+=1\n",
    "        \n",
    "\n",
    "# 对字典进行倒数排序从高到低 其中e表示dict.items()中的一个元素，\n",
    "# e[1]则表示按值排序如果把e[1]改成e[0]，那么则是按键排序，\n",
    "# reverse=False可以省略，默认为升序排列\n",
    "rate=sorted(rate.items(), key=lambda e:e[1], reverse=True)\n",
    "\n",
    "\n",
    "print('全文共有%d个字'%len(contentLines))\n",
    "print('一共有%d个不同的字'%len(characers))\n",
    "print()\n",
    "for i in rate:\n",
    "    print(\"[\",i[0],\"] 共出现 \",  i[1], \"次\")\n",
    "fr.close()\n",
    "\n"
   ]
  },
  {
   "cell_type": "code",
   "execution_count": null,
   "metadata": {},
   "outputs": [],
   "source": [
    "from collections import Counter\n",
    "contents, labels = [], []\n",
    "with open('data/datas.txt','r',encoding='utf-8') as f:\n",
    "    for line in f:\n",
    "        try:\n",
    "            label, content = line.strip().split(',')\n",
    "            if content:\n",
    "                contents.append(list(content))\n",
    "                labels.append(label)\n",
    "        except:\n",
    "            pass\n",
    "    data_train = contents\n",
    "    all_data = []\n",
    "    for content in data_train:\n",
    "        all_data.extend(content)\n",
    "    counter = Counter(all_data)\n",
    "    count_pairs = counter.most_common(256)\n",
    "    words, _ = list(zip(*count_pairs))\n",
    "    # 添加一个 <PAD> 来将所有文本pad为同一长度\n",
    "    words = ['<PAD>'] + list(words)\n",
    "    words_to_id = dict(zip(words,range(len(words))))\n",
    "    open('1.txt','w',encoding='utf-8').write('\\n'.join(words_to_id) + '\\n')"
   ]
  },
  {
   "cell_type": "code",
   "execution_count": null,
   "metadata": {},
   "outputs": [],
   "source": [
    "train_data = open('newdata/train.txt','w',encoding='utf-8')\n",
    "test_data = open('newdata/test.txt','w',encoding='utf-8')\n",
    "with open('data/datas.txt','r',encoding='utf-8') as f:\n",
    "    lines = f.readlines()\n",
    "    flag = 0\n",
    "    for line in lines:\n",
    "        if flag == 0:\n",
    "            train_data.write(line)\n",
    "            test_data.write(line)\n",
    "        elif flag%10 == 0:\n",
    "            test_data.write(line)\n",
    "        else:\n",
    "            train_data.write(line)\n",
    "        flag += 1"
   ]
  },
  {
   "cell_type": "code",
   "execution_count": 4,
   "metadata": {},
   "outputs": [],
   "source": [
    "from sen2inds import read_labelFile"
   ]
  },
  {
   "cell_type": "code",
   "execution_count": 6,
   "metadata": {},
   "outputs": [],
   "source": [
    "datas = open('data/label.txt', 'r', encoding='utf_8').read().split('\\n')"
   ]
  },
  {
   "cell_type": "code",
   "execution_count": 13,
   "metadata": {},
   "outputs": [
    {
     "name": "stdout",
     "output_type": "stream",
     "text": [
      "0   冒充电商物流客服类\n",
      "1   贷款、代办信用卡类\n",
      "2   虚假网络投资理财类\n",
      "3   冒充领导、熟人类\n",
      "4   冒充公检法及政府机关类\n",
      "5   网络游戏产品虚假交易类\n",
      "6   刷单返利类\n",
      "7   其他类型诈骗\n",
      "8   虚假征信类\n",
      "9   冒充军警购物类诈骗\n",
      "10   虚假购物、服务类\n",
      "11   网黑案件\n",
      "12   网络婚恋、交友类（非虚假网络投资理财类）\n"
     ]
    }
   ],
   "source": [
    "flag = 12\n",
    "for data in datas:\n",
    "    if flag>=0:\n",
    "        line = data.split(' ')\n",
    "        line[1] = int(line[1])\n",
    "        print(line[1],' ',line[0])\n",
    "    flag -= 1"
   ]
  },
  {
   "cell_type": "code",
   "execution_count": null,
   "metadata": {},
   "outputs": [],
   "source": [
    "import mimetypes\n",
    "\n",
    "print(mimetypes.guess_type('static/style.css'))"
   ]
  }
 ],
 "metadata": {
  "kernelspec": {
   "display_name": "Python 3.9.12 ('base')",
   "language": "python",
   "name": "python3"
  },
  "language_info": {
   "codemirror_mode": {
    "name": "ipython",
    "version": 3
   },
   "file_extension": ".py",
   "mimetype": "text/x-python",
   "name": "python",
   "nbconvert_exporter": "python",
   "pygments_lexer": "ipython3",
   "version": "3.9.12 (main, Apr  4 2022, 05:22:27) [MSC v.1916 64 bit (AMD64)]"
  },
  "orig_nbformat": 4,
  "vscode": {
   "interpreter": {
    "hash": "b09ec625f77bf4fd762565a912b97636504ad6ec901eb2d0f4cf5a7de23e1ee5"
   }
  }
 },
 "nbformat": 4,
 "nbformat_minor": 2
}
